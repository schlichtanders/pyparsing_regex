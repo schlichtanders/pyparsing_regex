{
 "cells": [
  {
   "cell_type": "code",
   "execution_count": 260,
   "metadata": {
    "collapsed": true
   },
   "outputs": [],
   "source": [
    "from __future__ import division"
   ]
  },
  {
   "cell_type": "code",
   "execution_count": 261,
   "metadata": {
    "collapsed": true
   },
   "outputs": [],
   "source": [
    "import pyparsing as pp\n",
    "import regex\n",
    "import sys\n",
    "from itertools import izip\n",
    "from copy import copy, deepcopy\n",
    "from collections import Sequence"
   ]
  },
  {
   "cell_type": "markdown",
   "metadata": {},
   "source": [
    "# tests"
   ]
  },
  {
   "cell_type": "markdown",
   "metadata": {},
   "source": [
    "## general tests"
   ]
  },
  {
   "cell_type": "code",
   "execution_count": 262,
   "metadata": {
    "collapsed": false
   },
   "outputs": [
    {
     "data": {
      "text/plain": [
       "<function regex.finditer>"
      ]
     },
     "execution_count": 262,
     "metadata": {},
     "output_type": "execute_result"
    }
   ],
   "source": [
    "regex.finditer"
   ]
  },
  {
   "cell_type": "code",
   "execution_count": 263,
   "metadata": {
    "collapsed": false
   },
   "outputs": [
    {
     "data": {
      "text/plain": [
       "['ef']"
      ]
     },
     "execution_count": 263,
     "metadata": {},
     "output_type": "execute_result"
    }
   ],
   "source": [
    "regex.match(r\"(?:(ab)(cd))?(ef)\", \"ef\").captures(3)"
   ]
  },
  {
   "cell_type": "code",
   "execution_count": 264,
   "metadata": {
    "collapsed": false
   },
   "outputs": [],
   "source": [
    "expr = pp.Literal(\"ab\") + pp.Literal(\"cd\")\n",
    "e1 = expr.setResultsName(\"key1\", listAllMatches=True)\n",
    "e2 = (pp.Literal(\"ef\"))(\"key2\")\n",
    "expr_key =  pp.Group(e1 + e2 + e1 + e2)"
   ]
  },
  {
   "cell_type": "code",
   "execution_count": 354,
   "metadata": {
    "collapsed": false
   },
   "outputs": [
    {
     "data": {
      "text/plain": [
       "<__main__.ParserElement at 0x7faef3491110>"
      ]
     },
     "execution_count": 354,
     "metadata": {},
     "output_type": "execute_result"
    }
   ],
   "source": [
    "Word(\"ab\")"
   ]
  },
  {
   "cell_type": "code",
   "execution_count": 285,
   "metadata": {
    "collapsed": false
   },
   "outputs": [
    {
     "data": {
      "text/plain": [
       "(['ef'], {'key2': [('ef', 0)]})"
      ]
     },
     "execution_count": 285,
     "metadata": {},
     "output_type": "execute_result"
    }
   ],
   "source": [
    "e2.parseString(\"ef\")"
   ]
  },
  {
   "cell_type": "code",
   "execution_count": 289,
   "metadata": {
    "collapsed": false
   },
   "outputs": [
    {
     "data": {
      "text/plain": [
       "([(['ab', 'cd', 'ef', 'ab', 'cd', 'ef'], {'key2': [('ef', 2), ('ef', 5)], 'key1': [((['ab', 'cd'], {}), 0), ((['ab', 'cd'], {}), 3)]}), (['ab', 'cd', 'ef', 'ab', 'cd', 'ef'], {'key2': [('ef', 2), ('ef', 5)], 'key1': [((['ab', 'cd'], {}), 0), ((['ab', 'cd'], {}), 3)]})], {'keyP': [((['ab', 'cd', 'ef', 'ab', 'cd', 'ef'], {'key2': [('ef', 2), ('ef', 5)], 'key1': [((['ab', 'cd'], {}), 0), ((['ab', 'cd'], {}), 3)]}), 0), ((['ab', 'cd', 'ef', 'ab', 'cd', 'ef'], {'key2': [('ef', 2), ('ef', 5)], 'key1': [((['ab', 'cd'], {}), 0), ((['ab', 'cd'], {}), 3)]}), 1)]})"
      ]
     },
     "execution_count": 289,
     "metadata": {},
     "output_type": "execute_result"
    }
   ],
   "source": [
    "eP = expr_key.setResultsName(\"keyP\", listAllMatches=True)\n",
    "\n",
    "(eP+eP).parseString(\"ab cd ef ab cd ef ab cd ef ab cd ef\")"
   ]
  },
  {
   "cell_type": "code",
   "execution_count": 266,
   "metadata": {
    "collapsed": false
   },
   "outputs": [
    {
     "name": "stdout",
     "output_type": "stream",
     "text": [
      "ab\n",
      "cd\n",
      "ef\n",
      "ab\n",
      "cd\n",
      "ef\n"
     ]
    }
   ],
   "source": [
    "for i in (expr_key).parseString(\"ab cd ef ab cd ef ab cd ef ab cd ef\")[0]: print i"
   ]
  },
  {
   "cell_type": "code",
   "execution_count": 267,
   "metadata": {
    "collapsed": false
   },
   "outputs": [
    {
     "data": {
      "text/plain": [
       "<regex.Match object; span=(0, 16), match='sadsjklasdfkjhsa'>"
      ]
     },
     "execution_count": 267,
     "metadata": {},
     "output_type": "execute_result"
    }
   ],
   "source": [
    "regex.match(r\"(?:.(?!ab))*.\", \"sadsjklasdfkjhsaabdasdfa\")"
   ]
  },
  {
   "cell_type": "code",
   "execution_count": 268,
   "metadata": {
    "collapsed": false
   },
   "outputs": [
    {
     "data": {
      "text/plain": [
       "['ab', 'a', 'ab']"
      ]
     },
     "execution_count": 268,
     "metadata": {},
     "output_type": "execute_result"
    }
   ],
   "source": [
    "regex.findall(r\"(a(?:b)?+)\", \"abbbbaab\")"
   ]
  },
  {
   "cell_type": "code",
   "execution_count": 269,
   "metadata": {
    "collapsed": false
   },
   "outputs": [
    {
     "data": {
      "text/plain": [
       "'\\\\?\\\\.\\\\+ab'"
      ]
     },
     "execution_count": 269,
     "metadata": {},
     "output_type": "execute_result"
    }
   ],
   "source": [
    "regex.escape(\"?.+ab\")"
   ]
  },
  {
   "cell_type": "code",
   "execution_count": 270,
   "metadata": {
    "collapsed": false
   },
   "outputs": [
    {
     "data": {
      "text/plain": [
       "<regex.Match object; span=(0, 3), match='(?:'>"
      ]
     },
     "execution_count": 270,
     "metadata": {},
     "output_type": "execute_result"
    }
   ],
   "source": [
    "d = \"(?:dshja)\"\n",
    "d2 = \"hjkds\"\n",
    "m = begins_suppressed.match(d)\n",
    "m"
   ]
  },
  {
   "cell_type": "markdown",
   "metadata": {},
   "source": [
    "## parser specific tests"
   ]
  },
  {
   "cell_type": "code",
   "execution_count": 368,
   "metadata": {
    "collapsed": false
   },
   "outputs": [],
   "source": [
    "w = Word(\"abc\") + \"?\""
   ]
  },
  {
   "cell_type": "code",
   "execution_count": 369,
   "metadata": {
    "collapsed": false
   },
   "outputs": [
    {
     "ename": "AttributeError",
     "evalue": "'NoneType' object has no attribute 'map'",
     "output_type": "error",
     "traceback": [
      "\u001b[1;31m---------------------------------------------------------------------------\u001b[0m",
      "\u001b[1;31mAttributeError\u001b[0m                            Traceback (most recent call last)",
      "\u001b[1;32m<ipython-input-369-7037083635d0>\u001b[0m in \u001b[0;36m<module>\u001b[1;34m()\u001b[0m\n\u001b[1;32m----> 1\u001b[1;33m \u001b[0mr\u001b[0m \u001b[1;33m=\u001b[0m \u001b[0mw\u001b[0m\u001b[1;33m.\u001b[0m\u001b[0mparseString\u001b[0m\u001b[1;33m(\u001b[0m\u001b[1;34m\"abcde\"\u001b[0m\u001b[1;33m)\u001b[0m\u001b[1;33m\u001b[0m\u001b[0m\n\u001b[0m\u001b[0;32m      2\u001b[0m \u001b[1;32mprint\u001b[0m \u001b[0mr\u001b[0m\u001b[1;33m\u001b[0m\u001b[0m\n",
      "\u001b[1;32m<ipython-input-366-29c872564842>\u001b[0m in \u001b[0;36mparseString\u001b[1;34m(self, instring, parseAll)\u001b[0m\n\u001b[0;32m     95\u001b[0m             \u001b[0mself\u001b[0m\u001b[1;33m.\u001b[0m\u001b[0mcompiled\u001b[0m \u001b[1;33m=\u001b[0m \u001b[0mregex\u001b[0m\u001b[1;33m.\u001b[0m\u001b[0mcompile\u001b[0m\u001b[1;33m(\u001b[0m\u001b[0mself\u001b[0m\u001b[1;33m.\u001b[0m\u001b[0mpattern\u001b[0m\u001b[1;33m)\u001b[0m\u001b[1;33m\u001b[0m\u001b[0m\n\u001b[0;32m     96\u001b[0m         \u001b[0mm\u001b[0m \u001b[1;33m=\u001b[0m \u001b[0mself\u001b[0m\u001b[1;33m.\u001b[0m\u001b[0mcompiled\u001b[0m\u001b[1;33m.\u001b[0m\u001b[0mmatch\u001b[0m\u001b[1;33m(\u001b[0m\u001b[0minstring\u001b[0m\u001b[1;33m)\u001b[0m\u001b[1;33m\u001b[0m\u001b[0m\n\u001b[1;32m---> 97\u001b[1;33m         \u001b[1;32mreturn\u001b[0m \u001b[0mprestructure_to_parseresult\u001b[0m\u001b[1;33m(\u001b[0m\u001b[0mself\u001b[0m\u001b[1;33m.\u001b[0m\u001b[0mstructure\u001b[0m\u001b[1;33m,\u001b[0m \u001b[0mm\u001b[0m\u001b[1;33m)\u001b[0m\u001b[1;33m\u001b[0m\u001b[0m\n\u001b[0m\u001b[0;32m     98\u001b[0m \u001b[1;33m\u001b[0m\u001b[0m\n\u001b[0;32m     99\u001b[0m     \u001b[1;32mdef\u001b[0m \u001b[0mscanString\u001b[0m\u001b[1;33m(\u001b[0m \u001b[0mself\u001b[0m\u001b[1;33m,\u001b[0m \u001b[0minstring\u001b[0m\u001b[1;33m,\u001b[0m \u001b[0mmaxMatches\u001b[0m\u001b[1;33m=\u001b[0m\u001b[0m_MAX_INT\u001b[0m\u001b[1;33m,\u001b[0m \u001b[0moverlap\u001b[0m\u001b[1;33m=\u001b[0m\u001b[0mFalse\u001b[0m \u001b[1;33m)\u001b[0m\u001b[1;33m:\u001b[0m\u001b[1;33m\u001b[0m\u001b[0m\n",
      "\u001b[1;32m<ipython-input-346-3b511be55c7e>\u001b[0m in \u001b[0;36mprestructure_to_parseresult\u001b[1;34m(regex_structure, regex_match)\u001b[0m\n\u001b[0;32m      4\u001b[0m     \u001b[1;32mdef\u001b[0m \u001b[0mfunc\u001b[0m\u001b[1;33m(\u001b[0m\u001b[0mcount\u001b[0m\u001b[1;33m)\u001b[0m\u001b[1;33m:\u001b[0m\u001b[1;33m\u001b[0m\u001b[0m\n\u001b[0;32m      5\u001b[0m         \u001b[1;32mreturn\u001b[0m \u001b[0mregex_match\u001b[0m\u001b[1;33m.\u001b[0m\u001b[0mcaptures\u001b[0m\u001b[1;33m(\u001b[0m\u001b[0mcount\u001b[0m\u001b[1;33m.\u001b[0m\u001b[0mvalue\u001b[0m\u001b[1;33m)\u001b[0m\u001b[1;33m\u001b[0m\u001b[0m\n\u001b[1;32m----> 6\u001b[1;33m     \u001b[1;32mreturn\u001b[0m \u001b[0mregex_structure\u001b[0m\u001b[1;33m.\u001b[0m\u001b[0mmap\u001b[0m\u001b[1;33m(\u001b[0m\u001b[0mfunc\u001b[0m\u001b[1;33m)\u001b[0m\u001b[1;33m\u001b[0m\u001b[0m\n\u001b[0m",
      "\u001b[1;31mAttributeError\u001b[0m: 'NoneType' object has no attribute 'map'"
     ]
    }
   ],
   "source": [
    "r = w.parseString(\"abcde\")\n",
    "print r"
   ]
  },
  {
   "cell_type": "code",
   "execution_count": 370,
   "metadata": {
    "collapsed": false
   },
   "outputs": [
    {
     "data": {
      "text/plain": [
       "(r'([abc]{1,})(\\?)', None)"
      ]
     },
     "execution_count": 370,
     "metadata": {},
     "output_type": "execute_result"
    }
   ],
   "source": [
    "w"
   ]
  },
  {
   "cell_type": "markdown",
   "metadata": {},
   "source": [
    "# Definitions"
   ]
  },
  {
   "cell_type": "markdown",
   "metadata": {},
   "source": [
    "## generic definitions"
   ]
  },
  {
   "cell_type": "code",
   "execution_count": 322,
   "metadata": {
    "collapsed": true
   },
   "outputs": [],
   "source": [
    "class Count(object):\n",
    "    \"\"\" future-like counting object\n",
    "    \n",
    "    The first time the attribute ``value`` is accessed, it gets computed by counting onwards from the total_count\n",
    "    \"\"\"\n",
    "    total_count = 1\n",
    "    \n",
    "    @staticmethod\n",
    "    def reset():\n",
    "        Count.total_count = 1\n",
    "        \n",
    "    def __init__(self, _value=None):\n",
    "        self._value = _value\n",
    "    \n",
    "    def __copy__(self):\n",
    "        return Count(self._value)\n",
    "    \n",
    "    @property\n",
    "    def value(self):\n",
    "        if self._value is None:\n",
    "            self._value = Count.total_count\n",
    "            Count.total_count += 1\n",
    "        return self._value\n",
    "    \n",
    "    def __str__(self):\n",
    "        return str(self._value or \"?\")\n",
    "    \n",
    "    def __repr__(self):\n",
    "        return str(self)"
   ]
  },
  {
   "cell_type": "code",
   "execution_count": 343,
   "metadata": {
    "collapsed": false
   },
   "outputs": [],
   "source": [
    "class Structure(Sequence, object):\n",
    "    \"\"\" implements generic dict-list-combining structure like it is used in pyparsing.ParseResult \"\"\"\n",
    "    # TODO create list and dict interface!\n",
    "    def __init__(self, initializer=None, list=None, dict=None):\n",
    "        \"\"\"either initializer or non-empty list is needed\"\"\"\n",
    "        if initializer is None and not list:\n",
    "            raise RuntimeError(\"either initializer or list is needed\")\n",
    "        self.list = list or [initializer()] # list of sub-Structures\n",
    "        self.dict = dict or {}\n",
    "        \n",
    "    def __copy__(self):\n",
    "        return Structure(list=copy(self.list), dict=copy(self.dict))\n",
    "    \n",
    "    def set_name(self, name):\n",
    "        if not self.dict:\n",
    "            # init dictionary - leafs are always lists\n",
    "            # the nested [] is because pyparsing indeed makes nested [] for listAllMatches=True\n",
    "            self.dict = {name: [self.list]}\n",
    "        elif len(self.dict) == 1:\n",
    "            # this seems to be the behaviour of PyParsing\n",
    "            # it might be useful to rather also check that the overall content\n",
    "            # has not changed, i.e. self.dict.values() == [[self.list]]\n",
    "            # but this is not the case in pyparsing yet\n",
    "            self.dict = {name: self.dict.values()[0]}\n",
    "        else:\n",
    "            h = self.dict\n",
    "            self.dict = {name: [h]} # this is parsed later to give ParseResult like access, nested [] is as for initialization\n",
    "        \n",
    "    def is_nested(self):\n",
    "        return isinstance(self.list[0], Structure)\n",
    "    \n",
    "    def group(self):\n",
    "        return Structure(list=[self])\n",
    "        \n",
    "    def group_lift_keys(self):\n",
    "        return Structure(list=[self], dict=self.dict)\n",
    "                          \n",
    "    def map_inplace(self, func):\n",
    "        \"\"\"Structure is a functor =)\"\"\"\n",
    "        \n",
    "        if not self.is_nested():\n",
    "            for i in xrange(len(self.list)):\n",
    "                self.list[i] = func(self.list[i]) # preserves references\n",
    "        else:\n",
    "            for s in self.list:\n",
    "                s.map_inplace(func)\n",
    "\n",
    "    def map(self, func):\n",
    "        return deepcopy(self).map_inplace(func)\n",
    "    \n",
    "    def __getitem__(self, index):\n",
    "        if isinstance(index, int):\n",
    "            return self.list[index]\n",
    "        else:\n",
    "            return self.dict[index]\n",
    "    \n",
    "    def __len__(self):\n",
    "        return len(self.list)\n",
    "        \n",
    "    def __add__(self, other):\n",
    "        base = copy(self)\n",
    "        base += other # (+=) == __iadd__\n",
    "        return base\n",
    "    \n",
    "    def __iadd__(self, other):\n",
    "        if not isinstance(other, Structure):\n",
    "            raise NotImplemented\n",
    "        self.list += other.list\n",
    "        appendall(self.dict, other.dict)\n",
    "    \n",
    "    def __str__(self):\n",
    "        return str(self.list)\n",
    "    \n",
    "    def __repr__(self):\n",
    "        return \"(%s, %s)\"%(repr(self.list), repr(self.dict))\n",
    "        \n",
    "#create alias for possible compatibility issues:\n",
    "ParseResults = Structure"
   ]
  },
  {
   "cell_type": "markdown",
   "metadata": {},
   "source": [
    "## parser specific definitions"
   ]
  },
  {
   "cell_type": "code",
   "execution_count": 345,
   "metadata": {
    "collapsed": true
   },
   "outputs": [],
   "source": [
    "silently_ignore = []\n",
    "\n",
    "_MAX_INT = sys.maxint\n",
    "\n",
    "begins_suppressed = regex.compile(r\"\\(\\?:\")\n",
    "begins_named = regex.compile(r\"\\(\\?P<([^>]*)>\")\n",
    "#begins_named2 = regex.compile(r\"\\(\\?<([^>]*)>\")\n",
    "begins_grouped = regex.compile(r\"\\(\")\n",
    "ends_grouped = regex.compile(r\"(?r)\\)\") #reversed search feature (?r)    \n",
    "\n",
    "def group(pattern):\n",
    "    return \"(%s)\"%(pattern)\n",
    "\n",
    "def ensure_grouping(pattern):\n",
    "    if not begins_grouped.match(pattern):\n",
    "        pattern = \"(?:\" + pattern  # suppressed group\n",
    "    if not ends_grouped.match(pattern):\n",
    "        pattern += \")\"\n",
    "    return pattern\n",
    "\n",
    "def decodeflags(flags, flags_sorted_bin = (None, \"i\", \"L\", \"m\", \"s\", \"u\", \"x\")):\n",
    "    return \"\".join(d for d, s in izip(flags_sorted_bin, bin(flags)[-1:1:-1]) if s=='1')\n",
    "\n",
    "def appendall(base_dict, append_dict): #TODO rename to extend_dict ?\n",
    "        for key in append_dict:\n",
    "            base_dict[key] += append_dict[key]"
   ]
  },
  {
   "cell_type": "code",
   "execution_count": 346,
   "metadata": {
    "collapsed": true
   },
   "outputs": [],
   "source": [
    "def prestructure_to_parseresult(regex_structure, regex_match):\n",
    "    \"\"\"THE BIG MAP which makes the nice result\"\"\"\n",
    "    Count.reset()\n",
    "    def func(count):\n",
    "        return regex_match.captures(count.value)\n",
    "    return regex_structure.map(func)    "
   ]
  },
  {
   "cell_type": "code",
   "execution_count": 366,
   "metadata": {
    "collapsed": false
   },
   "outputs": [],
   "source": [
    "class ParserElement(object):\n",
    "    \"\"\" not implemented: Whitespaces \"\"\"\n",
    "    \n",
    "    def __init__(self, pattern, structure=None): #, list=None, dict=None, \n",
    "        self.pattern = pattern\n",
    "        # each number indicates the group (standard counting starts with 1 for regular expression)\n",
    "        # in order to not adapt the real group number always, we use lazy evaluation:\n",
    "        self.structure = structure or Structure(Count)\n",
    "    \n",
    "    # TODO make name property which graps self.dict.keys()[0] if len(self.dict == 1) else None\n",
    " \n",
    "    def __copy__(self):\n",
    "        \"\"\"Make a copy of this C{ParserElement}.  Useful for defining different parse actions\n",
    "        for the same parsing pattern, using copies of the original parse element.\n",
    "        \"\"\"\n",
    "        return ParserElement(self.pattern, copy(self.structure))\n",
    "        \n",
    "    def __getattr__(self, attr):\n",
    "        \"\"\"if attr is listed in ``silently_ignore`` will be silently ignored by returning ``self``\n",
    "        else NotImplementedError is raised\"\"\"\n",
    "        if attr in silently_ignore:\n",
    "            def silently_ignored():\n",
    "                return self\n",
    "            return silently_ignored\n",
    "        else:\n",
    "            raise NotImplementedError(\"requested functionality is not (yet) implemented\")\n",
    "    \n",
    "    def __call__(self, name):\n",
    "        return self.copy().setResultsName(name)\n",
    "    \n",
    "    def setResultsName(self, name, listAllMatches=True):\n",
    "        \"\"\"listAllMatches not used, but behaviour is per default rather true\n",
    "        \n",
    "        refer to ``ParseResults``(use groups/groupdict versus captures/capturesdict)\n",
    "        \"\"\"\n",
    "        # TODO save listAllMatches flag to later really maybe only return last match instead of all?\n",
    "        self.structure.set_name(name)\n",
    "        \n",
    "        #we might ignore the regex key matching alltogether:\n",
    "        \"\"\" \n",
    "        if not ends_grouped.match(self.pattern):\n",
    "            self.pattern += \")\"\n",
    "            \n",
    "        m = ( begins_named.match(self.pattern)\n",
    "              or begins_suppressed.match(self.pattern)\n",
    "              or begins_grouped(self.pattern) )\n",
    "        if m:\n",
    "            self.pattern = \"(?P<%s>\"%(name) + self.pattern[m.ends():]\n",
    "        else:\n",
    "            self.pattern = \"(?P<%s>\"%(name) + self.pattern\n",
    "        \"\"\"\n",
    "            \n",
    "    \n",
    "    #change outer brackets, e.g. (...) or (?P<>...) or (?<>...) to non-capturing (?:...) version\n",
    "    def suppress(self):\n",
    "        \"\"\"Suppresses the output of this C{ParserElement}; useful to keep punctuation from\n",
    "           cluttering up returned output.\n",
    "        \"\"\"\n",
    "        if not begins_suppressed.match(self.pattern):\n",
    "            if not ends_grouped.match(self.pattern):\n",
    "                self.pattern += \")\"\n",
    "            \n",
    "            m = begins_named.match(self.pattern) or begins_grouped.match(self.pattern)\n",
    "            if m:\n",
    "                self.pattern = \"(?:\" + self.pattern[m.ends():]\n",
    "            else:\n",
    "                self.pattern = \"(?:\" + self.pattern\n",
    "    \n",
    "    def parseString(self, instring, parseAll=False):\n",
    "        \"\"\"Execute the parse expression with the given string.\n",
    "           This is the main interface to the client code, once the complete\n",
    "           expression has been built.\n",
    "\n",
    "           If you want the grammar to require that the entire input string be\n",
    "           successfully parsed, then set C{parseAll} to True (equivalent to ending\n",
    "           the grammar with C{L{StringEnd()}}).\n",
    "\n",
    "           Note: C{parseString} implicitly calls C{expandtabs()} on the input string,\n",
    "           in order to report proper column numbers in parse actions.\n",
    "           If the input string contains tabs and\n",
    "           the grammar uses parse actions that use the C{loc} argument to index into the\n",
    "           string being parsed, you can ensure you have a consistent view of the input\n",
    "           string by:\n",
    "            - calling C{parseWithTabs} on your grammar before calling C{parseString}\n",
    "              (see L{I{parseWithTabs}<parseWithTabs>})\n",
    "            - define your parse action using the full C{(s,loc,toks)} signature, and\n",
    "              reference the input string using the parse action's C{s} argument\n",
    "            - explictly expand the tabs in your input string before calling\n",
    "              C{parseString}\n",
    "        \"\"\"\n",
    "        if parseAll:\n",
    "            return (self + StringEnd()).parseString(instring)\n",
    "        \n",
    "        if not hasattr(self, 'compiled'):\n",
    "            self.compiled = regex.compile(self.pattern)\n",
    "        m = self.compiled.match(instring)\n",
    "        return prestructure_to_parseresult(self.structure, m)\n",
    "\n",
    "    def scanString( self, instring, maxMatches=_MAX_INT, overlap=False ):\n",
    "        \"\"\"not supported: maxMatches\n",
    "        \n",
    "        Scan the input string for expression matches.  Each match will return the\n",
    "        matching tokens, start location, and end location.  May be called with optional\n",
    "        C{maxMatches} argument, to clip scanning after 'n' matches are found.  If\n",
    "        C{overlap} is specified, then overlapping matches will be reported.\n",
    "\n",
    "        Note that the start and end locations are reported relative to the string\n",
    "        being parsed.  See L{I{parseString}<parseString>} for more information on parsing\n",
    "        strings with embedded tabs.\n",
    "        \"\"\"\n",
    "        if not hasattr(self, 'compiled'):\n",
    "            self.compiled = regex.compile(self.pattern)\n",
    "            \n",
    "        for m in self.compiled.finditer(instring, overlapped=overlap):\n",
    "            yield prestructure_to_parseresult(self.structure, m)\n",
    "\n",
    "    def transformString(self, instring):\n",
    "        raise NotImplementedError(\"with regular expressions setParseAction is not supported and thus also not transformString\")\n",
    "\n",
    "    def searchString(self, instring, maxMatches=_MAX_INT):\n",
    "        \"\"\"Another extension to C{L{scanString}}, simplifying the access to the tokens found\n",
    "           to match the given parse expression.  May be called with optional\n",
    "           C{maxMatches} argument, to clip searching after 'n' matches are found.\n",
    "        \"\"\"\n",
    "        return list(self.scanString(instring))\n",
    "    \n",
    "    def __str__(self):\n",
    "        return self.pattern\n",
    "    \n",
    "    def __repr__(self):\n",
    "        return \"(r'%s', %s)\" %(self.pattern, self.structure)\n",
    "    \n",
    "    def __add__(self, other):\n",
    "        base = copy(self)\n",
    "        base += other # (+=) == __iadd__\n",
    "        return base\n",
    "    \n",
    "    def __radd__(self, other):\n",
    "        base = ParserElement(group(regex.escape(other)))\n",
    "        base += self #(+=) == __iadd__\n",
    "        return base\n",
    "\n",
    "    def __iadd__(self, other):\n",
    "        if isinstance(other, basestring):\n",
    "            self.pattern += group(regex.escape(other))\n",
    "            self.structure += Structure(Count)\n",
    "            \n",
    "        elif isinstance(other, ParserElement):\n",
    "            self.pattern += other.pattern\n",
    "            self.structure += other.structure\n",
    "        else:\n",
    "            raise NotImplemented\n",
    "        return self\n",
    "\n",
    "    def __or__(self, other):\n",
    "        base = copy(self)\n",
    "        base |= other # (|=) == __iadd__\n",
    "        return base\n",
    "    \n",
    "    def __ror__(self, other):\n",
    "        base = ParserElement(group(regex.escape(other)))\n",
    "        base |= self #(|=) == __ior__\n",
    "        return base\n",
    "    \n",
    "    def __ior__(self, other):\n",
    "        if isinstance( other, basestring ):\n",
    "            self.pattern += \"|\" + group(regex.escape(other))\n",
    "            self.structure += Structure(Count)\n",
    "        elif isinstance(other, ParserElement):\n",
    "            self.pattern += \"|\" + other.pattern\n",
    "            self.structure += other.structure\n",
    "        else:\n",
    "            raise NotImplemented\n",
    "        return self"
   ]
  },
  {
   "cell_type": "code",
   "execution_count": 277,
   "metadata": {
    "collapsed": true
   },
   "outputs": [],
   "source": [
    "def Group(expr):\n",
    "    return ParserElement(\n",
    "        pattern   = group(expr.pattern),\n",
    "        structure = expr.structure.group()\n",
    "    )\n",
    "        \n",
    "def GroupLiftKeys(expr):\n",
    "    return ParserElement(\n",
    "        pattern   = group(expr.pattern),\n",
    "        structure = expr.structure.group_lift_keys()\n",
    "    )"
   ]
  },
  {
   "cell_type": "code",
   "execution_count": 278,
   "metadata": {
    "collapsed": false
   },
   "outputs": [],
   "source": [
    "def Suppress(expr):\n",
    "    expr.suppress()\n",
    "    return expr\n",
    "\n",
    "def And(iterable):\n",
    "    \"\"\"in place version\"\"\"\n",
    "    try:\n",
    "        gen = iter(iterable)\n",
    "        base = next(gen) + next(gen) # once (+) to have a new element\n",
    "        for expr in gen:\n",
    "            base += expr\n",
    "        return base\n",
    "    except StopIteration: # only one element\n",
    "        return next(iter(iterable))\n",
    "\n",
    "\n",
    "def MatchFirst(iterable):\n",
    "    \"\"\"in place version\"\"\"\n",
    "    try:\n",
    "        gen = iter(iterable)\n",
    "        base = next(gen) | next(gen) # once (|) to have a new element\n",
    "        for expr in gen:\n",
    "            base |= expr\n",
    "        return base\n",
    "    except StopIteration: # only one element\n",
    "        return next(iter(iterable))\n",
    "#Or __xor__ and Each __and__ are missing - takes more time to implement\n",
    "\n",
    "\n",
    "def Optional(expr):\n",
    "    \"\"\" suppressed by default \"\"\"\n",
    "    return ParserElement(\n",
    "        pattern = r\"(?:%s?)\"%(ensure_grouping(expr.pattern))\n",
    "    )"
   ]
  },
  {
   "cell_type": "code",
   "execution_count": 279,
   "metadata": {
    "collapsed": false
   },
   "outputs": [],
   "source": [
    "def Regex(pattern, flags=0):\n",
    "    \"\"\"Grouped by default. flags are locally scoped and will only effect the supplied pattern, nothing more\"\"\"\n",
    "    if flags==0:\n",
    "        pattern = group(pattern)\n",
    "    else:\n",
    "        str_flags = decodeflags(flags)\n",
    "        pattern = r\"(?%s:%s)\"%(str_flags, pattern)\n",
    "    return ParserElement(pattern)\n",
    "\n",
    "\n",
    "def Word(initChars, bodyChars=None, min=1, max=0, exact=0, excludeChars=None):\n",
    "    \"\"\"Grouped by default. not implemented kwargs: asKeyword \"\"\"\n",
    "    \n",
    "    if max != 0 and min > max:\n",
    "        raise RuntimeError(\"min <= max needed\")\n",
    "\n",
    "    if excludeChars:\n",
    "        initChars = initChars + \"--\" + excludeChars\n",
    "        if bodyChars:\n",
    "            bodyChars = bodyChars + \"--\" + excludeChars\n",
    "\n",
    "    if exact == 1 or max == 1:\n",
    "        pattern = r\"[%s]{1}\"%(initChars)    \n",
    "    elif exact > 1:\n",
    "        if bodyChars:\n",
    "            pattern = r\"[%s]{1}[%s]{%s}\"%(initChars, bodyChars, exact-1)\n",
    "        else:\n",
    "            pattern = r\"[%s]{%s}\"%(initChars, exact)\n",
    "    elif max > 1:\n",
    "        if bodyChars:\n",
    "            pattern = r\"[%s]{1}[%s]{%s,%s}\"%(initChars, bodyChars, __builtin__.max(min-1,0), max-1)\n",
    "        else:\n",
    "            pattern = r\"[%s]{%s,%s}\"%(initChars, min, max)\n",
    "    else: # arbitrary upper bound\n",
    "        if bodyChars:\n",
    "            pattern = r\"[%s]{1}[%s]{%s,}\"%(initChars, bodyChars, __builtin__.max(min-1,0))\n",
    "        else:\n",
    "            pattern = r\"[%s]{%s,}\"%(initChars, min)\n",
    "\n",
    "    # group by default:\n",
    "    return ParserElement(group(pattern))\n",
    "\n",
    "        \n",
    "def SkipTo(self, expr, include=False):\n",
    "    \"\"\"Grouped by default. not supported: ignore=None, failOn=None.\n",
    "    \n",
    "    Token for skipping over all undefined text until the matched expression is found.\n",
    "    If C{include} is set to true, the matched expression is also parsed (the skipped text\n",
    "    and matched expression are returned as a 2-element list).  The C{ignore}\n",
    "    argument is used to define grammars (typically quoted strings and comments) that\n",
    "    might contain false matches.\n",
    "    \"\"\"\n",
    "    pattern = r\"(?:.(?!%s))*.\"%(expr)\n",
    "    if include:\n",
    "        pattern += expr\n",
    "    # group by default:\n",
    "    return ParserElement(group(self.pattern))"
   ]
  },
  {
   "cell_type": "code",
   "execution_count": 280,
   "metadata": {
    "collapsed": true
   },
   "outputs": [],
   "source": [
    "def OneOrMore(self, expr):\n",
    "    \"\"\"grouped by default\"\"\"\n",
    "    pattern = r\"%s+\"%(ensure_grouping(expr.pattern))\n",
    "    return ParserElement(group(self.pattern))\n",
    "        \n",
    "def ZeroOrMore(self, expr):\n",
    "    \"\"\"grouped by default\"\"\"\n",
    "    pattern = r\"%s*\"%(ensure_grouping(expr.pattern))\n",
    "    return ParserElement(group(self.pattern))\n",
    "\n",
    "\n",
    "def Repeat(self, expr, min=0, max=None):\n",
    "    \"\"\"grouped by default\"\"\"\n",
    "    if max is None and min > max:\n",
    "        raise RuntimeError(\"min <= max needed\")\n",
    "\n",
    "    pattern = ensure_grouping(expr.pattern)\n",
    "\n",
    "    if max is None:\n",
    "        pattern = r\"%s{%s,}+\"%(pattern, min)\n",
    "    elif min == max:\n",
    "        pattern = r\"%s{%s}+\"%(pattern, min)\n",
    "    else:\n",
    "        pattern = r\"%s{%s,%s}+\"%(pattern, min, max)\n",
    "    return ParserElement(group(self.pattern))\n",
    "    "
   ]
  },
  {
   "cell_type": "code",
   "execution_count": 281,
   "metadata": {
    "collapsed": true
   },
   "outputs": [],
   "source": [
    "def StringStart():\n",
    "    \"\"\"matches beginning of the text\"\"\"\n",
    "    return ParserElement(r\"^\")\n",
    "\n",
    "def StringEnd():\n",
    "    \"\"\"matches the end of the text\"\"\"\n",
    "    return ParserElement(r\"$\")\n",
    "\n",
    "def LineStart():\n",
    "    \"\"\"matches beginning of a line (lines delimited by \\n characters)\"\"\"\n",
    "    return Regex(r\"^\", regex.MULTILINE)\n",
    "\n",
    "def LineEnd():\n",
    "    \"\"\"matches the end of a line\"\"\"\n",
    "    return Regex(r\"$\", regex.MULTILINE)"
   ]
  },
  {
   "cell_type": "code",
   "execution_count": null,
   "metadata": {
    "collapsed": true
   },
   "outputs": [],
   "source": []
  }
 ],
 "metadata": {
  "kernelspec": {
   "display_name": "Python 2",
   "language": "python",
   "name": "python2"
  },
  "language_info": {
   "codemirror_mode": {
    "name": "ipython",
    "version": 2
   },
   "file_extension": ".py",
   "mimetype": "text/x-python",
   "name": "python",
   "nbconvert_exporter": "python",
   "pygments_lexer": "ipython2",
   "version": "2.7.6"
  }
 },
 "nbformat": 4,
 "nbformat_minor": 0
}
