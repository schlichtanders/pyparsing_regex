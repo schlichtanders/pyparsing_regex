{
 "cells": [
  {
   "cell_type": "code",
   "execution_count": 1,
   "metadata": {
    "collapsed": true
   },
   "outputs": [],
   "source": [
    "import abc\n",
    "import inspect\n",
    "from contextlib import contextmanager"
   ]
  },
  {
   "cell_type": "code",
   "execution_count": 2,
   "metadata": {
    "collapsed": true
   },
   "outputs": [],
   "source": [
    "class MyMeta(type):\n",
    "    def __new__(meta, name, bases, dct):\n",
    "        print '-----------------------------------'\n",
    "        print \"Allocating memory for class\", name\n",
    "        print meta\n",
    "        print bases\n",
    "        print dct\n",
    "        return super(MyMeta, meta).__new__(meta, name, bases, dct)\n",
    "    def __init__(cls, name, bases, dct):\n",
    "        print '-----------------------------------'\n",
    "        print \"Initializing class\", name\n",
    "        print cls\n",
    "        print bases\n",
    "        print dct\n",
    "        super(MyMeta, cls).__init__(name, bases, dct)"
   ]
  },
  {
   "cell_type": "markdown",
   "metadata": {},
   "source": [
    "# first version - Liftable-signal"
   ]
  },
  {
   "cell_type": "code",
   "execution_count": 3,
   "metadata": {
    "collapsed": false
   },
   "outputs": [],
   "source": [
    "def use_as_needed(func, kwargs):\n",
    "    meta = inspect.getargspec(func)\n",
    "    if meta.keywords is not None:\n",
    "            return func(**kwargs)\n",
    "    else:\n",
    "        # not generic super-constructor - pick only the relevant subentries:\n",
    "        return func(**{k:kwargs[k] for k in kwargs if k in meta.args})\n",
    "\n",
    "class NotLiftable(RuntimeError):\n",
    "    pass\n",
    "\n",
    "@contextmanager\n",
    "def super_liftable(cls, self):\n",
    "    \"\"\" this is kind of a hack to replace super.super, however I haven't found any other nice way to do it \"\"\"\n",
    "    if cls is object:\n",
    "        raise NotLiftable()\n",
    "    liftables = [l for l in cls.__bases__ if type(l).__name__ == \"Liftable\"]\n",
    "    if not liftables:\n",
    "        raise NotLiftable()\n",
    "        \n",
    "    orig_class = self.__class__\n",
    "    self.__class__ = liftables[0]\n",
    "    yield self\n",
    "    self.__class__ = orig_class\n",
    "\n",
    "    \n",
    "def LiftableFrom(base_cls_name):\n",
    "    \n",
    "    class Liftable(type):\n",
    "        def __init__(cls, name, bases, dct):\n",
    "            # for base_cls nothing should be done, as this is the one to refer to by Lifting\n",
    "            if not cls.__name__ == base_cls_name:\n",
    "                if \"__init__\" in dct:\n",
    "                    raise TypeError(\"Descendents of Liftable are not allowed to have own __init__ method. Instead overwrite __initialize__\")\n",
    "                \n",
    "                def lifted__init__(self, **kwargs):\n",
    "                    with super_liftable(cls, self) as s:\n",
    "                        use_as_needed(s.__init__, kwargs)\n",
    "                    if hasattr(self, \"__initialize__\"):\n",
    "                        use_as_needed(self.__initialize__, kwargs)\n",
    "\n",
    "                cls.__init__ = lifted__init__\n",
    "                #setattr(cls, \"__init__\", lifted__init__)\n",
    "                \n",
    "            super(Liftable, cls).__init__(name, bases, dct)\n",
    "    \n",
    "    Liftable.base_cls_name = base_cls_name\n",
    "    #Liftable.__name__ = \"LiftableFrom\" + base_cls_name   # to show that this is possible\n",
    "    return Liftable"
   ]
  },
  {
   "cell_type": "markdown",
   "metadata": {},
   "source": [
    "##  tests"
   ]
  },
  {
   "cell_type": "code",
   "execution_count": 4,
   "metadata": {
    "collapsed": false
   },
   "outputs": [],
   "source": [
    "class A(object):\n",
    "    __metaclass__ = LiftableFrom(\"A\")\n",
    "    def __init__(self, a):\n",
    "        self.a = a\n",
    "        \n",
    "class B(A):\n",
    "    def __initialize__(self, b):\n",
    "        print \"initialize b\"\n",
    "        self.b = b\n",
    "        \n",
    "class C(B):\n",
    "    def __initialize__(self, c):\n",
    "        print \"initialize c\"\n",
    "        self.c = c"
   ]
  },
  {
   "cell_type": "code",
   "execution_count": 5,
   "metadata": {
    "collapsed": false
   },
   "outputs": [
    {
     "data": {
      "text/plain": [
       "1"
      ]
     },
     "execution_count": 5,
     "metadata": {},
     "output_type": "execute_result"
    }
   ],
   "source": [
    "a = A(a=1)\n",
    "a.a"
   ]
  },
  {
   "cell_type": "code",
   "execution_count": null,
   "metadata": {
    "collapsed": false
   },
   "outputs": [],
   "source": []
  },
  {
   "cell_type": "code",
   "execution_count": null,
   "metadata": {
    "collapsed": false
   },
   "outputs": [],
   "source": [
    "b = B(a=1, b=2)\n",
    "b.a, b.b"
   ]
  },
  {
   "cell_type": "code",
   "execution_count": null,
   "metadata": {
    "collapsed": false
   },
   "outputs": [],
   "source": [
    "type(b)"
   ]
  },
  {
   "cell_type": "code",
   "execution_count": null,
   "metadata": {
    "collapsed": false
   },
   "outputs": [],
   "source": []
  },
  {
   "cell_type": "code",
   "execution_count": null,
   "metadata": {
    "collapsed": false
   },
   "outputs": [],
   "source": [
    "c = C(a=1, b=2, c=3)\n",
    "c.a, c.b, c.c"
   ]
  },
  {
   "cell_type": "code",
   "execution_count": null,
   "metadata": {
    "collapsed": false
   },
   "outputs": [],
   "source": [
    "lift(a, C, b=2, c=3)\n",
    "print type(a)\n",
    "print a.a, a.b, a.c"
   ]
  },
  {
   "cell_type": "markdown",
   "metadata": {},
   "source": [
    "# second version - Lift factory"
   ]
  },
  {
   "cell_type": "code",
   "execution_count": null,
   "metadata": {
    "collapsed": false
   },
   "outputs": [],
   "source": [
    "@contextmanager\n",
    "def mysuper(cls, self):\n",
    "    orig_class = self.__class__\n",
    "    self.__class__ = cls\n",
    "    yield self\n",
    "    self.__class__ = orig_class\n",
    "    \n",
    "def Lift(cls):\n",
    "    \"\"\" class decorator \"\"\"\n",
    "    class _Lift(cls):\n",
    "        __metaclass__ = abc.ABCMeta\n",
    "        \n",
    "        def __init__(self, **kwargs):\n",
    "            print \"init \", cls.__name__\n",
    "            print self.__class__.__mro__\n",
    "            with mysuper(cls, self) as s:\n",
    "                use_as_needed(s.__init__, kwargs)\n",
    "#             #TODO the following does not work, but would be the first thing to try\n",
    "#             #gives TypeError: <method-wrapper '__init__' of C object at 0x7f0ee504a610> is not a Python function\n",
    "#             #i.e. super(cls, self).__init__ is not an inspectable function as one would expect\n",
    "#             use_as_needed(super(cls, self).__init__, kwargs) \n",
    "            use_as_needed(self.__initialize__, kwargs)\n",
    "        \n",
    "        @abc.abstractmethod\n",
    "        def __initialize__(self, **kwargs):\n",
    "            return NotImplemented()\n",
    "    \n",
    "    _Lift.__name__ = \"_Lift_\" + cls.__name__\n",
    "    return _Lift"
   ]
  },
  {
   "cell_type": "markdown",
   "metadata": {},
   "source": [
    "## tests"
   ]
  },
  {
   "cell_type": "code",
   "execution_count": null,
   "metadata": {
    "collapsed": true
   },
   "outputs": [],
   "source": [
    "class A2(object):\n",
    "    def __init__(self, a):\n",
    "        self.a = a\n",
    "    \n",
    "class B2(Lift(A2)):\n",
    "    def __initialize__(self, b):\n",
    "        print \"initilize b\"\n",
    "        self.b = b\n",
    "\n",
    "class C2(Lift(B2)):\n",
    "    def __initialize__(self, c):\n",
    "        print \"initliaz c\"\n",
    "        self.c = c"
   ]
  },
  {
   "cell_type": "code",
   "execution_count": null,
   "metadata": {
    "collapsed": false
   },
   "outputs": [],
   "source": [
    "c2 = C2(a=1, b=2, c=3)\n",
    "c2.a, c2.b, c2.c"
   ]
  },
  {
   "cell_type": "markdown",
   "metadata": {},
   "source": [
    "# lift"
   ]
  },
  {
   "cell_type": "raw",
   "metadata": {
    "collapsed": true
   },
   "source": [
    "def lift(self, new_class, **kwargs): #TODO adapt to work with both definitions above\n",
    "    # Stop Conditions:\n",
    "    if self.__class__ is new_class:\n",
    "        return # nothing to do\n",
    "    elif new_class is object: # Base Case\n",
    "        # break recursion at once:\n",
    "        raise NotLiftable()\n",
    "    \n",
    "    ls = [l for l in new_class.__bases__ if type(l).__name__ == \"Liftable\"]\n",
    "    if not ls:\n",
    "        raise NotLiftable()\n",
    "\n",
    "    # recursive case:\n",
    "    if not self.__class__ is ls[0]: # it would also be possible to use tree like left-first-search here\n",
    "        lift(self, ls[0], **kwargs)\n",
    "    # own case:\n",
    "    self.__class__ = new_class\n",
    "    use_as_needed(self.__initialize__, kwargs)"
   ]
  },
  {
   "cell_type": "code",
   "execution_count": null,
   "metadata": {
    "collapsed": false
   },
   "outputs": [],
   "source": [
    "def lift(self, new_class, **kwargs): #TODO adapt to work with both definitions above\n",
    "    # Stop Conditions:\n",
    "    if self.__class__ is new_class:\n",
    "        return # nothing to do\n",
    "    elif new_class is object: # Base Case\n",
    "        # break recursion at once:\n",
    "        raise NotLiftable()\n",
    "    \n",
    "    liftables = [l for l in new_class.__bases__ if type(l).__name__ == \"Liftable\"]\n",
    "    lifts = [l.__base__ for l in new_class.__bases__ if l.__name__.startswith(\"_Lift_\")]\n",
    "    ls = liftables + lifts\n",
    "    if not ls:\n",
    "        raise NotLiftable()\n",
    "\n",
    "    # recursive case:\n",
    "    if not self.__class__ is ls[0]: # it would also be possible to use tree like left-first-search here\n",
    "        lift(self, ls[0], **kwargs)\n",
    "    # own case:\n",
    "    self.__class__ = new_class\n",
    "    use_as_needed(self.__initialize__, kwargs)"
   ]
  },
  {
   "cell_type": "code",
   "execution_count": null,
   "metadata": {
    "collapsed": true
   },
   "outputs": [],
   "source": [
    "a = A(a=1)"
   ]
  },
  {
   "cell_type": "code",
   "execution_count": null,
   "metadata": {
    "collapsed": false
   },
   "outputs": [],
   "source": [
    "lift(a, B, b=1)"
   ]
  },
  {
   "cell_type": "code",
   "execution_count": null,
   "metadata": {
    "collapsed": false
   },
   "outputs": [],
   "source": [
    "a.b"
   ]
  },
  {
   "cell_type": "code",
   "execution_count": null,
   "metadata": {
    "collapsed": false
   },
   "outputs": [],
   "source": [
    "lift(a, C, c=1)"
   ]
  },
  {
   "cell_type": "code",
   "execution_count": null,
   "metadata": {
    "collapsed": false
   },
   "outputs": [],
   "source": [
    "a.c"
   ]
  },
  {
   "cell_type": "code",
   "execution_count": null,
   "metadata": {
    "collapsed": true
   },
   "outputs": [],
   "source": [
    "a2 = A2(a=1)"
   ]
  },
  {
   "cell_type": "code",
   "execution_count": null,
   "metadata": {
    "collapsed": false
   },
   "outputs": [],
   "source": [
    "C2.__bases__[0].__name__.startswith(\"_Lift_\")"
   ]
  },
  {
   "cell_type": "code",
   "execution_count": null,
   "metadata": {
    "collapsed": false
   },
   "outputs": [],
   "source": [
    "type(a2)"
   ]
  },
  {
   "cell_type": "code",
   "execution_count": null,
   "metadata": {
    "collapsed": false
   },
   "outputs": [],
   "source": [
    "lift(a2, C2, b=2, c=3)"
   ]
  },
  {
   "cell_type": "code",
   "execution_count": null,
   "metadata": {
    "collapsed": false
   },
   "outputs": [],
   "source": [
    "a2"
   ]
  },
  {
   "cell_type": "code",
   "execution_count": null,
   "metadata": {
    "collapsed": false
   },
   "outputs": [],
   "source": [
    "class M(object):\n",
    "    a = __class__\n",
    "    def __init__(self):\n",
    "        pass"
   ]
  },
  {
   "cell_type": "code",
   "execution_count": null,
   "metadata": {
    "collapsed": false
   },
   "outputs": [],
   "source": [
    "m = M()"
   ]
  },
  {
   "cell_type": "code",
   "execution_count": null,
   "metadata": {
    "collapsed": true
   },
   "outputs": [],
   "source": []
  }
 ],
 "metadata": {
  "kernelspec": {
   "display_name": "Python 2",
   "language": "python",
   "name": "python2"
  },
  "language_info": {
   "codemirror_mode": {
    "name": "ipython",
    "version": 2
   },
   "file_extension": ".py",
   "mimetype": "text/x-python",
   "name": "python",
   "nbconvert_exporter": "python",
   "pygments_lexer": "ipython2",
   "version": "2.7.6"
  }
 },
 "nbformat": 4,
 "nbformat_minor": 0
}
