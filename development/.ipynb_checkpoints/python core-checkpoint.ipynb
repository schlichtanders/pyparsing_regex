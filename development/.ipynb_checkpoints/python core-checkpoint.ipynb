{
 "cells": [
  {
   "cell_type": "code",
   "execution_count": 3,
   "metadata": {
    "collapsed": true
   },
   "outputs": [],
   "source": [
    "import regex"
   ]
  },
  {
   "cell_type": "code",
   "execution_count": 4,
   "metadata": {
    "collapsed": true
   },
   "outputs": [],
   "source": [
    "import six\n",
    "class DirMixIn:\n",
    "    \"\"\" Mix-in to make implementing __dir__ method in subclasses simpler\n",
    "    \"\"\"\n",
    "\n",
    "    def __dir__(self):\n",
    "        if six.PY3:\n",
    "            return super(DirMixIn, self).__dir__()\n",
    "        else:\n",
    "            # code is based on\n",
    "            # http://www.quora.com/How-dir-is-implemented-Is-there-any-PEP-related-to-that\n",
    "            def get_attrs(obj):\n",
    "                import types\n",
    "                if not hasattr(obj, '__dict__'):\n",
    "                    return []  # slots only\n",
    "                if not isinstance(obj.__dict__, (dict, types.DictProxyType)):\n",
    "                    raise TypeError(\"%s.__dict__ is not a dictionary\"\n",
    "                                    \"\" % obj.__name__)\n",
    "                return obj.__dict__.keys()\n",
    "\n",
    "            def dir2(obj):\n",
    "                attrs = set()\n",
    "                if not hasattr(obj, '__bases__'):\n",
    "                    # obj is an instance\n",
    "                    if not hasattr(obj, '__class__'):\n",
    "                        # slots\n",
    "                        return sorted(get_attrs(obj))\n",
    "                    klass = obj.__class__\n",
    "                    attrs.update(get_attrs(klass))\n",
    "                else:\n",
    "                    # obj is a class\n",
    "                    klass = obj\n",
    "\n",
    "                for cls in klass.__bases__:\n",
    "                    attrs.update(get_attrs(cls))\n",
    "                    attrs.update(dir2(cls))\n",
    "                attrs.update(get_attrs(obj))\n",
    "                return list(attrs)\n",
    "\n",
    "            return dir2(self)"
   ]
  },
  {
   "cell_type": "code",
   "execution_count": 5,
   "metadata": {
    "collapsed": false
   },
   "outputs": [],
   "source": [
    "import abc\n",
    "\n",
    "class A(DirMixIn, object):\n",
    "    __metaclass__ = abc.ABCMeta\n",
    "    \n",
    "    is_numeric_op = regex.compile(r\"__(\\w+)__\")\n",
    "    is_inplace_op = regex.compile(r\"__i(\\w+)__\")\n",
    "    \n",
    "    @abc.abstractmethod\n",
    "    def copy(self):\n",
    "        pass\n",
    "    \n",
    "    def __dir__(self):\n",
    "        return sorted(set(self._iter_dir()))\n",
    "    \n",
    "    def _iter_dir(self):\n",
    "        for attr in super(A, self).__dir__():\n",
    "            yield attr\n",
    "            inplace = self.is_inplace_op.match(attr)\n",
    "            if inplace:\n",
    "                yield r\"__%s__\" % (inplace.group(1))\n",
    "        \n",
    "    def __getattr__(self, attr):\n",
    "        numeric_op = self.is_numeric_op.match(attr)\n",
    "        if not numeric_op:\n",
    "            raise AttributeError(\"This object has no attribute %s\"%attr)\n",
    "            \n",
    "        try:\n",
    "            in_place_operator = getattr(self, r'__i%s__'%(numeric_op.group(1)))\n",
    "            def generic_numeric_op(other):\n",
    "                base = self.copy()\n",
    "                return in_place_operator(base, other)\n",
    "            return generic_numeric_op\n",
    "        except AttributeError:\n",
    "            raise AttributeError(\"This object has no attribute %s\"%attr)\n",
    "\n",
    "\n",
    "class B(A, object):\n",
    "    \n",
    "    def __init__(self, value):\n",
    "        self.value = value\n",
    "    \n",
    "    def copy(self):\n",
    "        return B(self.value)\n",
    "    \n",
    "    def __iadd__(self, other):\n",
    "        print self.value + other\n",
    "        self.value = self.value + other\n",
    "        return self\n",
    "    \n",
    "    def __str__(self):\n",
    "        return str(self.value)\n",
    "    def __repr__(self):\n",
    "        return str(self)"
   ]
  },
  {
   "cell_type": "markdown",
   "metadata": {},
   "source": [
    "does work:"
   ]
  },
  {
   "cell_type": "code",
   "execution_count": null,
   "metadata": {
    "collapsed": true
   },
   "outputs": [],
   "source": [
    "b = B(\"hi\")\n",
    "\n",
    "b += \"ho\"\n",
    "print b\n",
    "\n",
    "dir(b)"
   ]
  },
  {
   "cell_type": "markdown",
   "metadata": {},
   "source": [
    "does not work:"
   ]
  },
  {
   "cell_type": "code",
   "execution_count": null,
   "metadata": {
    "collapsed": true
   },
   "outputs": [],
   "source": [
    "b + \"h\""
   ]
  }
 ],
 "metadata": {
  "kernelspec": {
   "display_name": "Python 2",
   "language": "python",
   "name": "python2"
  },
  "language_info": {
   "codemirror_mode": {
    "name": "ipython",
    "version": 2
   },
   "file_extension": ".py",
   "mimetype": "text/x-python",
   "name": "python",
   "nbconvert_exporter": "python",
   "pygments_lexer": "ipython2",
   "version": "2.7.6"
  }
 },
 "nbformat": 4,
 "nbformat_minor": 0
}
